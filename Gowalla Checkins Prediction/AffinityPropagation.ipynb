{
  "nbformat": 4,
  "nbformat_minor": 0,
  "metadata": {
    "colab": {
      "name": "AffinityPropagation.ipynb",
      "provenance": []
    },
    "kernelspec": {
      "name": "python3",
      "display_name": "Python 3"
    },
    "language_info": {
      "name": "python"
    }
  },
  "cells": [
    {
      "cell_type": "markdown",
      "metadata": {
        "id": "8HAJXXxLzRA6"
      },
      "source": [
        "# Import libraries"
      ]
    },
    {
      "cell_type": "code",
      "metadata": {
        "id": "a41nGfV1zU04"
      },
      "source": [
        "import numpy as np\n",
        "import pandas as pd\n",
        "import seaborn as sns\n",
        "import matplotlib.pyplot as plt\n",
        "\n",
        "from collections import defaultdict\n",
        "from scipy import sparse"
      ],
      "execution_count": 1,
      "outputs": []
    },
    {
      "cell_type": "markdown",
      "metadata": {
        "id": "Bi6FyqqbzdRZ"
      },
      "source": [
        "# Download data"
      ]
    },
    {
      "cell_type": "code",
      "metadata": {
        "colab": {
          "base_uri": "https://localhost:8080/"
        },
        "id": "bFdv9UHezfYS",
        "outputId": "16031f28-e47b-48b6-e5ee-fbdcb15899b0"
      },
      "source": [
        "!wget https://snap.stanford.edu/data/loc-gowalla_edges.txt.gz\n",
        "!wget https://snap.stanford.edu/data/loc-gowalla_totalCheckins.txt.gz\n",
        "\n",
        "!gzip -vd loc-gowalla_edges.txt.gz\n",
        "!gzip -vd loc-gowalla_totalCheckins.txt.gz"
      ],
      "execution_count": 2,
      "outputs": [
        {
          "output_type": "stream",
          "name": "stdout",
          "text": [
            "--2021-11-03 17:48:49--  https://snap.stanford.edu/data/loc-gowalla_edges.txt.gz\n",
            "Resolving snap.stanford.edu (snap.stanford.edu)... 171.64.75.80\n",
            "Connecting to snap.stanford.edu (snap.stanford.edu)|171.64.75.80|:443... connected.\n",
            "HTTP request sent, awaiting response... 200 OK\n",
            "Length: 6351523 (6.1M) [application/x-gzip]\n",
            "Saving to: ‘loc-gowalla_edges.txt.gz’\n",
            "\n",
            "loc-gowalla_edges.t 100%[===================>]   6.06M  2.48MB/s    in 2.4s    \n",
            "\n",
            "2021-11-03 17:48:51 (2.48 MB/s) - ‘loc-gowalla_edges.txt.gz’ saved [6351523/6351523]\n",
            "\n",
            "--2021-11-03 17:48:51--  https://snap.stanford.edu/data/loc-gowalla_totalCheckins.txt.gz\n",
            "Resolving snap.stanford.edu (snap.stanford.edu)... 171.64.75.80\n",
            "Connecting to snap.stanford.edu (snap.stanford.edu)|171.64.75.80|:443... connected.\n",
            "HTTP request sent, awaiting response... 200 OK\n",
            "Length: 105470044 (101M) [application/x-gzip]\n",
            "Saving to: ‘loc-gowalla_totalCheckins.txt.gz’\n",
            "\n",
            "loc-gowalla_totalCh 100%[===================>] 100.58M  17.4MB/s    in 5.2s    \n",
            "\n",
            "2021-11-03 17:48:57 (19.3 MB/s) - ‘loc-gowalla_totalCheckins.txt.gz’ saved [105470044/105470044]\n",
            "\n",
            "loc-gowalla_edges.txt.gz:\t 71.3% -- replaced with loc-gowalla_edges.txt\n",
            "loc-gowalla_totalCheckins.txt.gz:\t 73.3% -- replaced with loc-gowalla_totalCheckins.txt\n"
          ]
        }
      ]
    },
    {
      "cell_type": "code",
      "metadata": {
        "id": "TOh6DLWcD0TY"
      },
      "source": [
        "df = pd.read_csv(\n",
        "    filepath_or_buffer=\"loc-gowalla_edges.txt\",\n",
        "    sep=\"\\t\",\n",
        "    header=None,\n",
        "    names=[\"from\", \"to\"],\n",
        ")"
      ],
      "execution_count": 3,
      "outputs": []
    },
    {
      "cell_type": "code",
      "metadata": {
        "id": "3kSODb8PEjaj"
      },
      "source": [
        "%%capture --no-stdout\n",
        "\n",
        "N = 1000\n",
        "\n",
        "row_ind = df[\"from\"].values\n",
        "row_ind = row_ind[row_ind < N]\n",
        "\n",
        "col_ind = df[\"to\"].values\n",
        "col_ind = col_ind[col_ind < N]\n",
        "\n",
        "data = np.ones(row_ind.shape[0], dtype=np.float64)\n",
        "\n",
        "# initialize similarities\n",
        "S = sparse.csr_matrix((data, (row_ind, col_ind)), shape=(N, N))\n",
        "S.setdiag(-1.0)"
      ],
      "execution_count": 4,
      "outputs": []
    },
    {
      "cell_type": "markdown",
      "metadata": {
        "id": "qepnRgNuDvcw"
      },
      "source": [
        "# Affinity Propagation\n"
      ]
    },
    {
      "cell_type": "code",
      "metadata": {
        "colab": {
          "base_uri": "https://localhost:8080/"
        },
        "id": "BFtFJ27UH0VJ",
        "outputId": "2804c4a8-0f9f-4c2e-a1fd-4d097291ee4b"
      },
      "source": [
        "%%capture --no-stdout\n",
        "\n",
        "data = np.zeros(row_ind.shape[0], dtype=np.float32)\n",
        "\n",
        "# initialize availability\n",
        "A = sparse.csr_matrix((data, (row_ind, col_ind)), shape=(N, N))\n",
        "\n",
        "# initialize responsibility\n",
        "R = sparse.csr_matrix((data, (row_ind, col_ind)), shape=(N, N))\n",
        "\n",
        "max_iterations = 42\n",
        "\n",
        "for iteration in range(max_iterations):\n",
        "    R_old = R.copy()\n",
        "    A_old = A.copy()\n",
        "\n",
        "    # update responsibility\n",
        "    sum = S + A\n",
        "\n",
        "    first_max_indices = np.asarray(np.argmax(sum, axis=-1)).flatten()\n",
        "    first_max = np.asarray(sum[np.arange(N), first_max_indices]).flatten()\n",
        "\n",
        "    tmp = sum.copy()\n",
        "    tmp[np.arange(N), first_max_indices] = -np.inf\n",
        "\n",
        "    second_max_indices = np.asarray(np.argmax(tmp, -1)).flatten()\n",
        "    second_max = np.asarray(sum[np.arange(N), second_max_indices]).flatten()\n",
        "\n",
        "    for r_ind, (i, j) in enumerate(zip(R.indptr, R.indptr[1:])):\n",
        "        R.data[i:j] = S.data[i:j] - first_max[r_ind]\n",
        "        if first_max_indices[r_ind] in R.indices[i:j]:\n",
        "            R[r_ind, first_max_indices[r_ind]] = S[r_ind, first_max_indices[r_ind]] - second_max[r_ind]\n",
        "\n",
        "    # update availability\n",
        "    A = R.copy()\n",
        "    A.setdiag(0)\n",
        "    A[A < 0] = 0\n",
        "\n",
        "    sums = np.asarray(np.sum(A, axis=0)).flatten()\n",
        "    sums_d = R.diagonal() + sums\n",
        "\n",
        "    A.data = np.minimum(0, sums_d[A.indices] - A.data)\n",
        "    A.setdiag(sums)\n",
        "\n",
        "    result = A + R\n",
        "    labels = [np.argmax(result[i]) for i in range(N)]\n",
        "\n",
        "    A_loss = np.abs(A - A_old).sum()\n",
        "    R_loss = np.abs(R - R_old).sum()\n",
        "\n",
        "    print(f\"Iteration #{iteration + 1}\")\n",
        "    print(f\"  Availability loss: {A_loss}\")\n",
        "    print(f\"  Responsibility loss: {R_loss}\")\n",
        "    print(f\"  Number of clusters: {np.unique(np.array(labels)).shape[0]}\")\n",
        "\n",
        "    if A_loss == 0.0 and R_loss == 0.0:\n",
        "        break"
      ],
      "execution_count": 5,
      "outputs": [
        {
          "output_type": "stream",
          "name": "stdout",
          "text": [
            "Iteration #1\n",
            "  Availability loss: 498603.0\n",
            "  Responsibility loss: 4108987.0\n",
            "  Number of clusters: 267\n",
            "Iteration #2\n",
            "  Availability loss: 1157520.0\n",
            "  Responsibility loss: 12861393.0\n",
            "  Number of clusters: 269\n",
            "Iteration #3\n",
            "  Availability loss: 210550.0\n",
            "  Responsibility loss: 4656784.0\n",
            "  Number of clusters: 263\n",
            "Iteration #4\n",
            "  Availability loss: 15141.0\n",
            "  Responsibility loss: 1966137.0\n",
            "  Number of clusters: 263\n",
            "Iteration #5\n",
            "  Availability loss: 5457.0\n",
            "  Responsibility loss: 352661.0\n",
            "  Number of clusters: 263\n",
            "Iteration #6\n",
            "  Availability loss: 30.0\n",
            "  Responsibility loss: 21816.0\n",
            "  Number of clusters: 263\n",
            "Iteration #7\n",
            "  Availability loss: 14.0\n",
            "  Responsibility loss: 1197.0\n",
            "  Number of clusters: 263\n",
            "Iteration #8\n",
            "  Availability loss: 4.0\n",
            "  Responsibility loss: 849.0\n",
            "  Number of clusters: 263\n",
            "Iteration #9\n",
            "  Availability loss: 0.0\n",
            "  Responsibility loss: 376.0\n",
            "  Number of clusters: 263\n",
            "Iteration #10\n",
            "  Availability loss: 0.0\n",
            "  Responsibility loss: 0.0\n",
            "  Number of clusters: 263\n"
          ]
        }
      ]
    },
    {
      "cell_type": "markdown",
      "metadata": {
        "id": "sd3S28-KylyC"
      },
      "source": [
        "# Predict checkins"
      ]
    },
    {
      "cell_type": "code",
      "metadata": {
        "id": "dWANnfuNynnu"
      },
      "source": [
        "from collections import Counter\n",
        "\n",
        "checkins = pd.read_csv(\n",
        "    filepath_or_buffer='loc-gowalla_totalCheckins.txt',\n",
        "    delimiter = '\\t',\n",
        "    names = ['user', 'time', 'latitude', 'longitude', 'location_id'],\n",
        ")\n",
        "\n",
        "users = checkins['user'].unique()\n",
        "users = users[users < N]\n",
        "\n",
        "np.random.shuffle(users)\n",
        "\n",
        "test_users = users[:len(users) // 10]\n",
        "\n",
        "clusters = defaultdict(list)\n",
        "for user, i in enumerate(labels):\n",
        "    clusters[i].append(user)\n",
        "\n",
        "loc_counter = defaultdict(Counter)\n",
        "for i, vals in clusters.items():\n",
        "    data = checkins[checkins['user'].isin(vals)]['location_id'].values\n",
        "    loc_counter[i].update(data)"
      ],
      "execution_count": 6,
      "outputs": []
    },
    {
      "cell_type": "code",
      "metadata": {
        "colab": {
          "base_uri": "https://localhost:8080/"
        },
        "id": "SzX36rKOyp0u",
        "outputId": "dbc4f683-0688-491d-a801-99777ee745db"
      },
      "source": [
        "accuracies = []\n",
        "for user in test_users:\n",
        "    i = labels[user]\n",
        "    accuracy = len(\n",
        "        set([location_id for location_id, _ in loc_counter[i].most_common(10)])\n",
        "        & set(checkins[checkins['user'] == user]['location_id'].values)\n",
        "    ) / 10\n",
        "    accuracies.append(accuracy)\n",
        "print(f\"accuracy: {np.mean(accuracies)}\")"
      ],
      "execution_count": 7,
      "outputs": [
        {
          "output_type": "stream",
          "name": "stdout",
          "text": [
            "accuracy: 0.28620689655172415\n"
          ]
        }
      ]
    }
  ]
}